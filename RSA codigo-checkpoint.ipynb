{
 "cells": [
  {
   "cell_type": "code",
   "execution_count": 16,
   "metadata": {},
   "outputs": [],
   "source": [
    "import math\n",
    "import sys"
   ]
  },
  {
   "cell_type": "code",
   "execution_count": 17,
   "metadata": {},
   "outputs": [],
   "source": [
    "#funcion para verificar si los numeros son primos\n",
    "def esPrimo(n):\n",
    "    if (n <= 1) :\n",
    "        return False\n",
    "    if (n <= 3) :\n",
    "        return True\n",
    "    if (n % 2 == 0 or n % 3 == 0) :\n",
    "        return False\n",
    "    i = 5\n",
    "    while(i * i <= n) :\n",
    "        if (n % i == 0 or n % (i + 2) == 0) :\n",
    "            return False\n",
    "        i = i + 6\n",
    "    return True"
   ]
  },
  {
   "cell_type": "code",
   "execution_count": 18,
   "metadata": {},
   "outputs": [],
   "source": [
    "#generardor de llave y\n",
    "def llaveY(p,q,x):\n",
    "    r = (p-1)*(q-1)+1\n",
    "    y = int(1)\n",
    "    xy= x*y\n",
    "    \n",
    "    while xy != r:\n",
    "        y= r/x\n",
    "        xy= x*y\n",
    "        x+=1\n",
    "\n",
    "    \n",
    "    return y"
   ]
  },
  {
   "cell_type": "code",
   "execution_count": 19,
   "metadata": {},
   "outputs": [],
   "source": [
    "#cifradoryDesifrador\n",
    "def cifrador(m,x,pq):\n",
    "    exp = m**x\n",
    "    print(\">>\",exp)\n",
    "    mec = exp % pq\n",
    "    return mec"
   ]
  },
  {
   "cell_type": "code",
   "execution_count": 25,
   "metadata": {},
   "outputs": [
    {
     "name": "stdout",
     "output_type": "stream",
     "text": [
      "incerta un primo P: 11\n",
      "incerta un primo Q:23\n",
      "r:  221\n",
      "incerte la llave publica: 13\n",
      "x:  13\n",
      "y:  17\n",
      "El mensaje original es :2\n",
      ">> 8192\n",
      "El mensaje cifrado es : 96\n",
      ">> 4995868076798137881795553463894016\n",
      "El mensaje desifrado es: 2\n"
     ]
    }
   ],
   "source": [
    "#insercion de datos\n",
    "p = input(\"incerta un primo P: \")\n",
    "p = int(p)\n",
    "q = input(\"incerta un primo Q:\")\n",
    "q = int(q)\n",
    "pq = p*q\n",
    "r = (p-1)*(q-1)+1\n",
    "if (esPrimo(p) != 1 or esPrimo(q) != 1):\n",
    "    print(\"los numero no son primos\")\n",
    "print(\"r: \",r)\n",
    "x = input(\"incerte la llave publica: \")\n",
    "x = int(x)\n",
    "if( (r%x)!=0 and (r-1 % (x))!= 0):\n",
    "    x=1\n",
    "    print(\"La llave publica fue cambiada a 1\")\n",
    "\n",
    "\n",
    "y = llaveY(p,q,x)\n",
    "y = int(y)\n",
    "\n",
    "print(\"x: \",x)\n",
    "print(\"y: \",y)\n",
    "\n",
    "pq= int(pq)\n",
    "m = input(\"El mensaje original es :\")\n",
    "m = int(m)\n",
    "mensaje_C = cifrador(m,x,pq)\n",
    "mensaje_C = int(mensaje_C)\n",
    "print(\"El mensaje cifrado es :\",mensaje_C)\n",
    "c = mensaje_C\n",
    "mensaje_D = cifrador(c,y,pq)\n",
    "\n",
    "print(\"El mensaje desifrado es:\",mensaje_D)\n",
    "\n",
    "\n",
    "\n"
   ]
  },
  {
   "cell_type": "code",
   "execution_count": null,
   "metadata": {},
   "outputs": [],
   "source": []
  }
 ],
 "metadata": {
  "kernelspec": {
   "display_name": "Python 3",
   "language": "python",
   "name": "python3"
  },
  "language_info": {
   "codemirror_mode": {
    "name": "ipython",
    "version": 3
   },
   "file_extension": ".py",
   "mimetype": "text/x-python",
   "name": "python",
   "nbconvert_exporter": "python",
   "pygments_lexer": "ipython3",
   "version": "3.8.2"
  }
 },
 "nbformat": 4,
 "nbformat_minor": 4
}
